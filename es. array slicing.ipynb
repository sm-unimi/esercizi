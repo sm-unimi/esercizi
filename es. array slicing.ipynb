{
 "cells": [
  {
   "cell_type": "markdown",
   "metadata": {},
   "source": [
    "# esercizio **array slicing: One dimensional**"
   ]
  },
  {
   "cell_type": "markdown",
   "metadata": {},
   "source": [
    "creare array di 10 valori che parta da 5 e vada fino a 15"
   ]
  },
  {
   "cell_type": "code",
   "execution_count": 12,
   "metadata": {},
   "outputs": [
    {
     "data": {
      "text/plain": [
       "array([ 5,  6,  7,  8,  9, 10, 11, 12, 13, 14])"
      ]
     },
     "execution_count": 12,
     "metadata": {},
     "output_type": "execute_result"
    }
   ],
   "source": [
    "import numpy as np\n",
    "x=np.arange(5,15)\n",
    "x"
   ]
  },
  {
   "cell_type": "code",
   "execution_count": 13,
   "metadata": {},
   "outputs": [
    {
     "data": {
      "text/plain": [
       "array([ 5,  6,  7,  8,  9, 10])"
      ]
     },
     "execution_count": 13,
     "metadata": {},
     "output_type": "execute_result"
    }
   ],
   "source": [
    "#primi sei valori\n",
    "x[:6]"
   ]
  },
  {
   "cell_type": "code",
   "execution_count": 14,
   "metadata": {},
   "outputs": [
    {
     "data": {
      "text/plain": [
       "array([ 8,  9, 10, 11, 12, 13, 14])"
      ]
     },
     "execution_count": 14,
     "metadata": {},
     "output_type": "execute_result"
    }
   ],
   "source": [
    "#elementi dopo l'indice 3\n",
    "x[3:]"
   ]
  },
  {
   "cell_type": "code",
   "execution_count": 15,
   "metadata": {},
   "outputs": [
    {
     "data": {
      "text/plain": [
       "array([ 7,  8,  9, 10, 11, 12, 13, 14])"
      ]
     },
     "execution_count": 15,
     "metadata": {},
     "output_type": "execute_result"
    }
   ],
   "source": [
    "#elementi dopo il terzo elemento\n",
    "x[2:]"
   ]
  },
  {
   "cell_type": "code",
   "execution_count": 16,
   "metadata": {},
   "outputs": [
    {
     "data": {
      "text/plain": [
       "array([ 8,  9, 10, 11, 12])"
      ]
     },
     "execution_count": 16,
     "metadata": {},
     "output_type": "execute_result"
    }
   ],
   "source": [
    "#subarray con valori 8,9,10,11,12\n",
    "x[3:8]"
   ]
  },
  {
   "cell_type": "code",
   "execution_count": 17,
   "metadata": {},
   "outputs": [
    {
     "data": {
      "text/plain": [
       "array([ 5,  8, 11, 14])"
      ]
     },
     "execution_count": 17,
     "metadata": {},
     "output_type": "execute_result"
    }
   ],
   "source": [
    "#un elemento ogni 3 artendo dal primo\n",
    "x[::3]"
   ]
  },
  {
   "cell_type": "code",
   "execution_count": 18,
   "metadata": {},
   "outputs": [
    {
     "data": {
      "text/plain": [
       "array([ 8, 11, 14])"
      ]
     },
     "execution_count": 18,
     "metadata": {},
     "output_type": "execute_result"
    }
   ],
   "source": [
    "#un elemento ogni 3 partendo dal terzo elemento\n",
    "x[3::3]"
   ]
  },
  {
   "cell_type": "markdown",
   "metadata": {},
   "source": [
    "# esercizio array slicing: Multi dimensional"
   ]
  },
  {
   "cell_type": "markdown",
   "metadata": {},
   "source": [
    "- Creare un array *es2a* di valori casuali interi (randint) di dimensione 4x6, con\n",
    "valore massimo (incluso) uguale a 15."
   ]
  },
  {
   "cell_type": "code",
   "execution_count": 23,
   "metadata": {},
   "outputs": [
    {
     "data": {
      "text/plain": [
       "array([[ 7, 10,  2,  6, 13, 11],\n",
       "       [14, 13,  6,  0,  5,  4],\n",
       "       [ 8, 12,  1,  1,  1,  6],\n",
       "       [ 5, 15,  6, 10,  3, 15]])"
      ]
     },
     "execution_count": 23,
     "metadata": {},
     "output_type": "execute_result"
    }
   ],
   "source": [
    "import numpy as np\n",
    "es2a= np.random.randint(16, size=(4,6))\n",
    "es2a"
   ]
  },
  {
   "cell_type": "code",
   "execution_count": 24,
   "metadata": {},
   "outputs": [
    {
     "data": {
      "text/plain": [
       "array([[ 7, 10,  2],\n",
       "       [14, 13,  6],\n",
       "       [ 8, 12,  1]])"
      ]
     },
     "execution_count": 24,
     "metadata": {},
     "output_type": "execute_result"
    }
   ],
   "source": [
    "#prime tre righe, prime tre colonne\n",
    "es2a[:3,:3]"
   ]
  },
  {
   "cell_type": "code",
   "execution_count": 25,
   "metadata": {},
   "outputs": [
    {
     "data": {
      "text/plain": [
       "array([[0, 5, 4],\n",
       "       [1, 1, 6]])"
      ]
     },
     "execution_count": 25,
     "metadata": {},
     "output_type": "execute_result"
    }
   ],
   "source": [
    "#seconda e terza riga, quarta, quinta e sesta colonna\n",
    "es2a[1:3,3:]"
   ]
  },
  {
   "cell_type": "code",
   "execution_count": 26,
   "metadata": {},
   "outputs": [
    {
     "data": {
      "text/plain": [
       "array([[10,  3, 15]])"
      ]
     },
     "execution_count": 26,
     "metadata": {},
     "output_type": "execute_result"
    }
   ],
   "source": [
    "#elementi dopo il terzo elemento\n",
    "es2a[3:,3:]"
   ]
  },
  {
   "cell_type": "code",
   "execution_count": 32,
   "metadata": {},
   "outputs": [
    {
     "data": {
      "text/plain": [
       "(array([[ 5, 15,  6, 10,  3, 15],\n",
       "        [ 8, 12,  1,  1,  1,  6],\n",
       "        [14, 13,  6,  0,  5,  4],\n",
       "        [ 7, 10,  2,  6, 13, 11]]),\n",
       " array([[11, 13,  6,  2, 10,  7],\n",
       "        [ 4,  5,  0,  6, 13, 14],\n",
       "        [ 6,  1,  1,  1, 12,  8],\n",
       "        [15,  3, 10,  6, 15,  5]]))"
      ]
     },
     "execution_count": 32,
     "metadata": {},
     "output_type": "execute_result"
    }
   ],
   "source": [
    "#invertire l’ordine delle sole righe;\n",
    "#invertire l’ordine delle sole colonne\n",
    "\n",
    "es2a[::-1,::], es2a[::,::-1]"
   ]
  },
  {
   "cell_type": "markdown",
   "metadata": {},
   "source": [
    "- Creare un array *es2b* di valori casuali interi (randint) di dimensione 2x5x5,\n",
    "con valore massimo (incluso) uguale a 30."
   ]
  },
  {
   "cell_type": "code",
   "execution_count": 36,
   "metadata": {},
   "outputs": [
    {
     "data": {
      "text/plain": [
       "array([[[ 9, 27, 20, 28,  1],\n",
       "        [14, 18, 24, 27, 24],\n",
       "        [17,  3,  2,  4, 27],\n",
       "        [23,  4, 17,  3, 13],\n",
       "        [29, 25, 16, 19,  1]],\n",
       "\n",
       "       [[ 8,  2, 11, 12, 24],\n",
       "        [ 9, 15, 13,  5, 10],\n",
       "        [15, 26,  8, 14, 28],\n",
       "        [ 2, 25, 18, 22, 16],\n",
       "        [25, 25, 21,  5, 25]]])"
      ]
     },
     "execution_count": 36,
     "metadata": {},
     "output_type": "execute_result"
    }
   ],
   "source": [
    "es2b= np.random.randint(31, size=(2,5,5))\n",
    "es2b"
   ]
  },
  {
   "cell_type": "code",
   "execution_count": 39,
   "metadata": {},
   "outputs": [
    {
     "data": {
      "text/plain": [
       "array([[27, 20, 28],\n",
       "       [18, 24, 27]])"
      ]
     },
     "execution_count": 39,
     "metadata": {},
     "output_type": "execute_result"
    }
   ],
   "source": [
    "#selezionare il primo subarray, da quello le prime due righe e le colonne dalla seconda alla quarta\n",
    "es2b[0,:2,1:4]"
   ]
  },
  {
   "cell_type": "code",
   "execution_count": 51,
   "metadata": {},
   "outputs": [
    {
     "data": {
      "text/plain": [
       "array([[[ 9, 27],\n",
       "        [14, 18]],\n",
       "\n",
       "       [[ 8,  2],\n",
       "        [ 9, 15]]])"
      ]
     },
     "execution_count": 51,
     "metadata": {},
     "output_type": "execute_result"
    }
   ],
   "source": [
    "#selezionare da entrambi i subarray le prime due righe e prime due colonne e invertire righe e colonne\n",
    "point=es2b[:2,:2:,:2]\n",
    "point"
   ]
  },
  {
   "cell_type": "code",
   "execution_count": 52,
   "metadata": {},
   "outputs": [
    {
     "data": {
      "text/plain": [
       "array([[[ 9, 15],\n",
       "        [ 8,  2]],\n",
       "\n",
       "       [[14, 18],\n",
       "        [ 9, 27]]])"
      ]
     },
     "execution_count": 52,
     "metadata": {},
     "output_type": "execute_result"
    }
   ],
   "source": [
    "point[::-1,::-1]"
   ]
  }
 ],
 "metadata": {
  "kernelspec": {
   "display_name": "Python 3",
   "language": "python",
   "name": "python3"
  },
  "language_info": {
   "codemirror_mode": {
    "name": "ipython",
    "version": 3
   },
   "file_extension": ".py",
   "mimetype": "text/x-python",
   "name": "python",
   "nbconvert_exporter": "python",
   "pygments_lexer": "ipython3",
   "version": "3.8.3"
  }
 },
 "nbformat": 4,
 "nbformat_minor": 4
}
